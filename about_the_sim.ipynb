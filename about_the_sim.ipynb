{
 "cells": [
  {
   "cell_type": "code",
   "execution_count": 52,
   "id": "c04c0677-02f1-49c9-b50c-6f0e5c477012",
   "metadata": {},
   "outputs": [],
   "source": [
    "from games import Player, Team, pitch, play_game\n",
    "from league import League\n",
    "import params\n",
    "\n",
    "params.ITERATIONS = 10_000"
   ]
  },
  {
   "cell_type": "markdown",
   "id": "19a1bbf5-8a96-445f-aefe-10263a09d76d",
   "metadata": {},
   "source": [
    "# About the sim\n",
    "This is a very simple baseball sim, meant to express the most basic stats.\n",
    "\n",
    "*Note: all constants are defined in params. This example uses the default values.*\n",
    "\n",
    "Every player has four attributes. These are randomly generated and typically range from 0 - 1. \n",
    "These attributes combine into a single weighted attribute, based on the attribute weights.\n",
    "The first attribute makes up 60% of a player's effectiveness; the second and third are 30% and 10% respectively.\n",
    "The fourth attribute is entirely worthless.\n",
    "\n",
    "This represents more and less important attributes in the real MMOLB sim."
   ]
  },
  {
   "cell_type": "code",
   "execution_count": 12,
   "id": "8852cf14-1fce-4ae1-8fcc-6b7230e70ee8",
   "metadata": {},
   "outputs": [
    {
     "name": "stdout",
     "output_type": "stream",
     "text": [
      "Attribute weights:\n",
      "[0.6, 0.3, 0.1, 0.0]\n",
      "\n",
      "Example player:\n",
      "[0.8739676013202891, 0.6804796968948361, 0.21890044658498042, 0.5882296615173608]\n",
      "This player has a total weighted attribute of 0.7504145145191223\n"
     ]
    }
   ],
   "source": [
    "print(\"Attribute weights:\")\n",
    "print(params.STAT_WEIGHTS)\n",
    "print()\n",
    "\n",
    "print(\"Example player:\")\n",
    "p = Player(0)\n",
    "print(p.attributes)\n",
    "print(f\"This player has a total weighted attribute of {p.weighted}\")"
   ]
  },
  {
   "cell_type": "markdown",
   "id": "3e000fda-6164-4bca-b418-3c1ed28e7414",
   "metadata": {},
   "source": [
    "Just like baseball, games are made up of nine innings. Each half-inning plays until three outs are achieved.\n",
    "However, the actual game has only two outcomes: either the player hits a home run, or the player strikes out.\n",
    "\n",
    "To determine this, the batter's weighted attribute is compared to the pitcher's weighted attribute.\n",
    "If the players are equal, the batter has a 0.200 hit rate. The higher the batter's weighted attribute is vs. the pitcher, the higher the\n",
    "hit rate."
   ]
  },
  {
   "cell_type": "code",
   "execution_count": 56,
   "id": "b6600bf9-bb7e-414f-a827-4729c731f77e",
   "metadata": {},
   "outputs": [
    {
     "name": "stdout",
     "output_type": "stream",
     "text": [
      "Good player's weighted attribute is 0.75.\n",
      "Bad player's weighted attribute is 0.21.\n",
      "Average pitcher's weighted attribute is 0.50.\n"
     ]
    }
   ],
   "source": [
    "good_player = Player(0)\n",
    "good_player.attributes = [0.9, 0.6, 0.3, 0.1]\n",
    "print(f\"Good player's weighted attribute is {good_player.weighted:.2f}.\")\n",
    "\n",
    "bad_player = Player(0)\n",
    "bad_player.attributes = [0.1, 0.3, 0.6, 0.9]\n",
    "print(f\"Bad player's weighted attribute is {bad_player.weighted:.2f}.\")\n",
    "\n",
    "average_pitcher = Player(1)\n",
    "average_pitcher.attributes = [0.5] * 4\n",
    "print(f\"Average pitcher's weighted attribute is {average_pitcher.weighted:.2f}.\")"
   ]
  },
  {
   "cell_type": "code",
   "execution_count": 57,
   "id": "22f5fef8-c6a6-4622-994b-f494c25370e4",
   "metadata": {},
   "outputs": [
    {
     "name": "stdout",
     "output_type": "stream",
     "text": [
      "After 10000 iterations:\n",
      "Good player has 2383 hits and home runs, with a batting average of 0.238 and a slugging of 0.953.\n",
      "Bad player has 1580 hits and home runs, with a batting average of 0.158 and a slugging of 0.632.\n",
      "Arron judge slugged 0.701 last year so this sim is a lil dumb.\n"
     ]
    }
   ],
   "source": [
    "for __ in range(params.ITERATIONS):\n",
    "    pitch(average_pitcher, good_player)\n",
    "    pitch(average_pitcher, bad_player)\n",
    "\n",
    "good_ba = good_player.hits/good_player.at_bats\n",
    "bad_ba = bad_player.hits/bad_player.at_bats\n",
    "\n",
    "print(f\"After {params.ITERATIONS} iterations:\")\n",
    "print(f\"Good player has {good_player.hits} hits and home runs, with a batting average of {good_ba:.3f} and a slugging of {good_ba * 4:.3f}.\")\n",
    "print(f\"Bad player has {bad_player.hits} hits and home runs, with a batting average of {bad_ba:.3f} and a slugging of {bad_ba * 4:.3f}.\")\n",
    "print(\"Arron judge slugged 0.701 last year so this sim is a lil dumb.\")"
   ]
  },
  {
   "cell_type": "code",
   "execution_count": 58,
   "id": "6cdaa3cc-15aa-4274-8602-295361dd7a31",
   "metadata": {},
   "outputs": [],
   "source": [
    "good_team = Team(1, good_player.weighted, good_player.weighted)\n",
    "bad_team = Team(2, bad_player.weighted, bad_player.weighted)\n",
    "average_team = Team(3, average_pitcher.weighted, average_pitcher.weighted)"
   ]
  },
  {
   "cell_type": "code",
   "execution_count": 60,
   "id": "9570b8bf-0fe0-4e13-a906-7e605dd9fcb1",
   "metadata": {},
   "outputs": [
    {
     "name": "stdout",
     "output_type": "stream",
     "text": [
      "After 10000 games against a perfectly average team:\n",
      "A team made up of entirely good players has won 13951, for a win rate of 69.75%, with an average run differential of 2.256.\n",
      "A team made up of entirely bad players has won 3086, for a win rate of 15.43%, with an average run differential of -4.397.\n",
      "Note that in this example notebook, bad player is more bad than good player is good.\n"
     ]
    }
   ],
   "source": [
    "for __ in range(params.ITERATIONS):\n",
    "    play_game(average_team, good_team)\n",
    "    play_game(average_team, bad_team)\n",
    "\n",
    "print(f\"After {params.ITERATIONS} games against a perfectly average team:\")\n",
    "print(\n",
    "    f\"A team made up of entirely good players has won {good_team.wins}, for a win rate of {good_team.wins/good_team.games*100:.2f}%, \"\n",
    "    f\"with an average run differential of {(good_team.runs - good_team.runs_surrendered)/good_team.games:.3f}.\"\n",
    ")\n",
    "print(\n",
    "    f\"A team made up of entirely bad players has won {bad_team.wins}, for a win rate of {bad_team.wins/bad_team.games*100:.2f}%, \"\n",
    "    f\"with an average run differential of {(bad_team.runs - bad_team.runs_surrendered)/bad_team.games:.3f}.\"\n",
    ")\n",
    "print(\"Note that in this example notebook, bad player is more bad than good player is good.\")"
   ]
  }
 ],
 "metadata": {
  "kernelspec": {
   "display_name": "Python 3 (ipykernel)",
   "language": "python",
   "name": "python3"
  },
  "language_info": {
   "codemirror_mode": {
    "name": "ipython",
    "version": 3
   },
   "file_extension": ".py",
   "mimetype": "text/x-python",
   "name": "python",
   "nbconvert_exporter": "python",
   "pygments_lexer": "ipython3",
   "version": "3.12.0"
  }
 },
 "nbformat": 4,
 "nbformat_minor": 5
}
