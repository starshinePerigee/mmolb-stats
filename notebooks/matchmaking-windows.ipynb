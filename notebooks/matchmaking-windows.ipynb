{
 "cells": [
  {
   "cell_type": "code",
   "execution_count": 1,
   "id": "17a4347c-08ca-4aa8-b10d-ea3132bd2dad",
   "metadata": {},
   "outputs": [],
   "source": [
    "import os\n",
    "os.chdir(\"..\")"
   ]
  },
  {
   "cell_type": "code",
   "execution_count": 2,
   "id": "8593083d-432e-49be-96f9-fdc9ace21563",
   "metadata": {},
   "outputs": [],
   "source": [
    "import seaborn as sns\n",
    "import pandas as pd\n",
    "\n",
    "from sim import run_monte_carlo, params"
   ]
  },
  {
   "cell_type": "markdown",
   "id": "95d78f3f-5aa6-4766-9226-bd557e3b5c6a",
   "metadata": {},
   "source": [
    "# Monte Carlo sims\n",
    "\n",
    "The previous page's data all came from a single simulated season of 100 teams and 100 games. This is insufficient to determine small effects with low but non-zero correlations, so we're going to need stronger tools.\n",
    "\n",
    "From now on, all data is run across 1000 seasons. Teams and players are regenerated each times.\n",
    "\n",
    "Let's start by asking: what's the actual correlation between attributes and hit rate? This is a repeat of the previous page's charts, except with 1000x as much data."
   ]
  },
  {
   "cell_type": "code",
   "execution_count": 3,
   "id": "4f8c17f8-f6aa-4f8b-bf08-e143e334af77",
   "metadata": {},
   "outputs": [
    {
     "name": "stdout",
     "output_type": "stream",
     "text": [
      "Here are the correlations for each season across 1000 seasons:\n"
     ]
    },
    {
     "data": {
      "text/html": [
       "<div>\n",
       "<style scoped>\n",
       "    .dataframe tbody tr th:only-of-type {\n",
       "        vertical-align: middle;\n",
       "    }\n",
       "\n",
       "    .dataframe tbody tr th {\n",
       "        vertical-align: top;\n",
       "    }\n",
       "\n",
       "    .dataframe thead th {\n",
       "        text-align: right;\n",
       "    }\n",
       "</style>\n",
       "<table border=\"1\" class=\"dataframe\">\n",
       "  <thead>\n",
       "    <tr style=\"text-align: right;\">\n",
       "      <th></th>\n",
       "      <th>goodness</th>\n",
       "      <th>attr_0</th>\n",
       "      <th>attr_1</th>\n",
       "      <th>attr_2</th>\n",
       "      <th>attr_3</th>\n",
       "    </tr>\n",
       "  </thead>\n",
       "  <tbody>\n",
       "    <tr>\n",
       "      <th>0</th>\n",
       "      <td>0.820398</td>\n",
       "      <td>0.729107</td>\n",
       "      <td>0.400817</td>\n",
       "      <td>0.060962</td>\n",
       "      <td>-0.049424</td>\n",
       "    </tr>\n",
       "    <tr>\n",
       "      <th>1</th>\n",
       "      <td>0.835669</td>\n",
       "      <td>0.729912</td>\n",
       "      <td>0.373068</td>\n",
       "      <td>0.039231</td>\n",
       "      <td>-0.001411</td>\n",
       "    </tr>\n",
       "    <tr>\n",
       "      <th>2</th>\n",
       "      <td>0.834708</td>\n",
       "      <td>0.724292</td>\n",
       "      <td>0.369391</td>\n",
       "      <td>0.116796</td>\n",
       "      <td>0.045185</td>\n",
       "    </tr>\n",
       "    <tr>\n",
       "      <th>3</th>\n",
       "      <td>0.808906</td>\n",
       "      <td>0.694124</td>\n",
       "      <td>0.372405</td>\n",
       "      <td>0.160246</td>\n",
       "      <td>0.015655</td>\n",
       "    </tr>\n",
       "    <tr>\n",
       "      <th>4</th>\n",
       "      <td>0.822382</td>\n",
       "      <td>0.727843</td>\n",
       "      <td>0.353234</td>\n",
       "      <td>0.092963</td>\n",
       "      <td>0.038340</td>\n",
       "    </tr>\n",
       "    <tr>\n",
       "      <th>...</th>\n",
       "      <td>...</td>\n",
       "      <td>...</td>\n",
       "      <td>...</td>\n",
       "      <td>...</td>\n",
       "      <td>...</td>\n",
       "    </tr>\n",
       "    <tr>\n",
       "      <th>995</th>\n",
       "      <td>0.832745</td>\n",
       "      <td>0.730756</td>\n",
       "      <td>0.348985</td>\n",
       "      <td>0.147038</td>\n",
       "      <td>0.030493</td>\n",
       "    </tr>\n",
       "    <tr>\n",
       "      <th>996</th>\n",
       "      <td>0.832475</td>\n",
       "      <td>0.728904</td>\n",
       "      <td>0.404927</td>\n",
       "      <td>0.088539</td>\n",
       "      <td>0.005551</td>\n",
       "    </tr>\n",
       "    <tr>\n",
       "      <th>997</th>\n",
       "      <td>0.832534</td>\n",
       "      <td>0.741229</td>\n",
       "      <td>0.335942</td>\n",
       "      <td>0.158517</td>\n",
       "      <td>-0.025376</td>\n",
       "    </tr>\n",
       "    <tr>\n",
       "      <th>998</th>\n",
       "      <td>0.816521</td>\n",
       "      <td>0.709570</td>\n",
       "      <td>0.399886</td>\n",
       "      <td>0.097352</td>\n",
       "      <td>0.039180</td>\n",
       "    </tr>\n",
       "    <tr>\n",
       "      <th>999</th>\n",
       "      <td>0.835148</td>\n",
       "      <td>0.749639</td>\n",
       "      <td>0.326288</td>\n",
       "      <td>0.145988</td>\n",
       "      <td>-0.022060</td>\n",
       "    </tr>\n",
       "  </tbody>\n",
       "</table>\n",
       "<p>1000 rows × 5 columns</p>\n",
       "</div>"
      ],
      "text/plain": [
       "     goodness    attr_0    attr_1    attr_2    attr_3\n",
       "0    0.820398  0.729107  0.400817  0.060962 -0.049424\n",
       "1    0.835669  0.729912  0.373068  0.039231 -0.001411\n",
       "2    0.834708  0.724292  0.369391  0.116796  0.045185\n",
       "3    0.808906  0.694124  0.372405  0.160246  0.015655\n",
       "4    0.822382  0.727843  0.353234  0.092963  0.038340\n",
       "..        ...       ...       ...       ...       ...\n",
       "995  0.832745  0.730756  0.348985  0.147038  0.030493\n",
       "996  0.832475  0.728904  0.404927  0.088539  0.005551\n",
       "997  0.832534  0.741229  0.335942  0.158517 -0.025376\n",
       "998  0.816521  0.709570  0.399886  0.097352  0.039180\n",
       "999  0.835148  0.749639  0.326288  0.145988 -0.022060\n",
       "\n",
       "[1000 rows x 5 columns]"
      ]
     },
     "metadata": {},
     "output_type": "display_data"
    },
    {
     "name": "stdout",
     "output_type": "stream",
     "text": [
      "And the final correlations, averaged across all iterations:\n"
     ]
    },
    {
     "data": {
      "text/plain": [
       "goodness    0.825394\n",
       "attr_0      0.729851\n",
       "attr_1      0.365426\n",
       "attr_2      0.122071\n",
       "attr_3     -0.000124\n",
       "dtype: float64"
      ]
     },
     "metadata": {},
     "output_type": "display_data"
    }
   ],
   "source": [
    "def get_correlations(team_df, player_df) -> dict:\n",
    "    batters = player_df.loc[player_df[\"is_pitcher\"] == False]\n",
    "    corrs = {}\n",
    "    for attr in [\"goodness\"] + [f\"attr_{i}\" for i in range(4)]:\n",
    "        corrs[attr] = batters[[attr, 'average']].corr().iat[0, 1]\n",
    "    return corrs\n",
    "\n",
    "print(\"Here are the correlations for each season across 1000 seasons:\")\n",
    "df = run_monte_carlo(get_correlations)\n",
    "display(df)\n",
    "\n",
    "print(\"And the final correlations, averaged across all iterations:\")\n",
    "display(df.mean())"
   ]
  },
  {
   "cell_type": "markdown",
   "id": "870dd3e2-11bf-430f-a6f6-610928a48c9d",
   "metadata": {},
   "source": [
    "## Effects of matchmaking windows\n",
    "\n",
    "The above experiment is going to be run across several matchmaking windows to determine the effects matchmaking has on the stat: attribute correlations."
   ]
  },
  {
   "cell_type": "code",
   "execution_count": 4,
   "id": "a84754a6-0d15-4240-a3f9-3e3bc0e68bf2",
   "metadata": {},
   "outputs": [
    {
     "data": {
      "text/html": [
       "<div>\n",
       "<style scoped>\n",
       "    .dataframe tbody tr th:only-of-type {\n",
       "        vertical-align: middle;\n",
       "    }\n",
       "\n",
       "    .dataframe tbody tr th {\n",
       "        vertical-align: top;\n",
       "    }\n",
       "\n",
       "    .dataframe thead th {\n",
       "        text-align: right;\n",
       "    }\n",
       "</style>\n",
       "<table border=\"1\" class=\"dataframe\">\n",
       "  <thead>\n",
       "    <tr style=\"text-align: right;\">\n",
       "      <th></th>\n",
       "      <th>goodness</th>\n",
       "      <th>attr_0</th>\n",
       "      <th>attr_1</th>\n",
       "      <th>attr_2</th>\n",
       "      <th>attr_3</th>\n",
       "    </tr>\n",
       "  </thead>\n",
       "  <tbody>\n",
       "    <tr>\n",
       "      <th>2</th>\n",
       "      <td>0.825975</td>\n",
       "      <td>0.730506</td>\n",
       "      <td>0.365681</td>\n",
       "      <td>0.122477</td>\n",
       "      <td>-0.000770</td>\n",
       "    </tr>\n",
       "    <tr>\n",
       "      <th>6</th>\n",
       "      <td>0.825718</td>\n",
       "      <td>0.730665</td>\n",
       "      <td>0.364706</td>\n",
       "      <td>0.121656</td>\n",
       "      <td>0.000766</td>\n",
       "    </tr>\n",
       "    <tr>\n",
       "      <th>20</th>\n",
       "      <td>0.826659</td>\n",
       "      <td>0.731065</td>\n",
       "      <td>0.366406</td>\n",
       "      <td>0.122390</td>\n",
       "      <td>-0.000752</td>\n",
       "    </tr>\n",
       "    <tr>\n",
       "      <th>100</th>\n",
       "      <td>0.825944</td>\n",
       "      <td>0.730275</td>\n",
       "      <td>0.364884</td>\n",
       "      <td>0.123448</td>\n",
       "      <td>0.001022</td>\n",
       "    </tr>\n",
       "  </tbody>\n",
       "</table>\n",
       "</div>"
      ],
      "text/plain": [
       "     goodness    attr_0    attr_1    attr_2    attr_3\n",
       "2    0.825975  0.730506  0.365681  0.122477 -0.000770\n",
       "6    0.825718  0.730665  0.364706  0.121656  0.000766\n",
       "20   0.826659  0.731065  0.366406  0.122390 -0.000752\n",
       "100  0.825944  0.730275  0.364884  0.123448  0.001022"
      ]
     },
     "metadata": {},
     "output_type": "display_data"
    }
   ],
   "source": [
    "window_correlations = {}\n",
    "for window in (2, 6, 20, 100):\n",
    "    params.MATCHMAKING_SPREAD = window\n",
    "    df = run_monte_carlo(get_correlations)\n",
    "    window_correlations[window] = df.mean()\n",
    "\n",
    "display(pd.DataFrame(window_correlations).T)"
   ]
  },
  {
   "cell_type": "code",
   "execution_count": 5,
   "id": "edad94bd-2fbc-4f23-a4e8-28c6d9f411ed",
   "metadata": {},
   "outputs": [
    {
     "data": {
      "text/plain": [
       "goodness   -0.010693\n",
       "attr_0     -0.020992\n",
       "attr_1     -0.012181\n",
       "attr_2      0.047178\n",
       "attr_3      0.008222\n",
       "dtype: float64"
      ]
     },
     "metadata": {},
     "output_type": "display_data"
    }
   ],
   "source": [
    "display(df.loc[100] - df.loc[2])"
   ]
  }
 ],
 "metadata": {
  "kernelspec": {
   "display_name": "Python 3 (ipykernel)",
   "language": "python",
   "name": "python3"
  },
  "language_info": {
   "codemirror_mode": {
    "name": "ipython",
    "version": 3
   },
   "file_extension": ".py",
   "mimetype": "text/x-python",
   "name": "python",
   "nbconvert_exporter": "python",
   "pygments_lexer": "ipython3",
   "version": "3.12.0"
  }
 },
 "nbformat": 4,
 "nbformat_minor": 5
}
